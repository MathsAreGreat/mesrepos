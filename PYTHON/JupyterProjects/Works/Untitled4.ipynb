{
 "cells": [
  {
   "cell_type": "code",
   "execution_count": 33,
   "id": "def5dae5-af61-42e3-b6ea-f3c7119d5fc6",
   "metadata": {},
   "outputs": [],
   "source": [
    "import json\n",
    "import re\n",
    "from pathlib import Path\n",
    "from urllib.parse import urljoin\n",
    "from datetime import datetime\n",
    "import eyed3\n",
    "import requests\n",
    "from Mido.variables import upclear, monhtml, get_m3u8\n",
    "\n",
    "sess = requests.Session()\n",
    "sess.headers[\"User-Agent\"] = \"Mozilla/5.0 (X11; Linux x86_64) AppleWebKit/537.36 (KHTML, like Gecko) Chrome/140.0.0.0 Safari/537.36\""
   ]
  },
  {
   "cell_type": "code",
   "execution_count": 34,
   "id": "3d2124cd-c034-454e-a21d-7b249d0d9772",
   "metadata": {},
   "outputs": [],
   "source": [
    "url = \"https://megamax.me/download/D3p45cYVXWtlr\"\n",
    "sess.headers[\"Referer\"] = url\n",
    "# r = sess.post(url, data={\"attach\": \"03oDitYqp21QB\"})\n",
    "soup = monhtml(url)\n",
    "s = soup.select_one('#app').get(\"data-page\")"
   ]
  },
  {
   "cell_type": "code",
   "execution_count": 23,
   "id": "9876a2bc-5657-406d-91ea-1c552382c761",
   "metadata": {},
   "outputs": [
    {
     "data": {
      "text/plain": [
       "{'component': 'files/mirror/download',\n",
       " 'props': {'errors': {},\n",
       "  'file': {'hashId': 'D3p45cYVXWtlr',\n",
       "   'name': '[ZIMABADK] JSHK2P2-EP11',\n",
       "   'status': 'active',\n",
       "   'type': 'video',\n",
       "   'mimeType': 'video/mp4',\n",
       "   'created_at': '2025-09-14T09:19:05.000000Z',\n",
       "   'updated_at': '2025-09-14T09:29:40.000000Z'},\n",
       "  'attachments': [{'hashId': 'NPrT3AcxjJDcW',\n",
       "    'label': '1080p (source)',\n",
       "    'resolution': '1920x1080',\n",
       "    'size': 514002170},\n",
       "   {'hashId': '03oDitYqp21QB',\n",
       "    'label': '720p',\n",
       "    'resolution': '1280x720',\n",
       "    'size': 236707624},\n",
       "   {'hashId': 'ACEBXHF74EhLB',\n",
       "    'label': '480p',\n",
       "    'resolution': '854x480',\n",
       "    'size': 112319466},\n",
       "   {'hashId': '5b0s47rc4v7X3',\n",
       "    'label': '360p',\n",
       "    'resolution': '640x360',\n",
       "    'size': 76909613}],\n",
       "  'ads': ['https://megamax.me/ads/monetag/megamax.me2.js',\n",
       "   '//xn.ariledreinfer.com/rZ0Wh8pKj9u/121591']},\n",
       " 'url': '/download/D3p45cYVXWtlr',\n",
       " 'version': '073aceb6c2dab1e478df72b19687c856'}"
      ]
     },
     "execution_count": 23,
     "metadata": {},
     "output_type": "execute_result"
    }
   ],
   "source": [
    "json.loads(s)"
   ]
  },
  {
   "cell_type": "code",
   "execution_count": 35,
   "id": "01cf8213-c5e7-4568-a960-7d3aae653f21",
   "metadata": {},
   "outputs": [],
   "source": [
    "r = sess.post(url, data={\"attach\": \"03oDitYqp21QB\"})"
   ]
  },
  {
   "cell_type": "code",
   "execution_count": 36,
   "id": "59b514a2-75e7-4de8-b248-2d47b896bb19",
   "metadata": {},
   "outputs": [
    {
     "data": {
      "text/plain": [
       "'<!DOCTYPE html>\\n<html lang=\"en\">\\n    <head>\\n        <meta charset=\"utf-8\">\\n        <meta name=\"viewport\" content=\"width=device-width, initial-scale=1\">\\n\\n        <title>Page Expired</title>\\n\\n        <style>\\n            /*! normalize.css v8.0.1 | MIT License | github.com/necolas/normalize.css */html{line-height:1.15;-webkit-text-size-adjust:100%}body{margin:0}a{background-color:transparent}code{font-family:monospace,monospace;font-size:1em}[hidden]{display:none}html{font-family:system-ui,-apple-system,BlinkMacSystemFont,Segoe UI,Roboto,Helvetica Neue,Arial,Noto Sans,sans-serif,Apple Color Emoji,Segoe UI Emoji,Segoe UI Symbol,Noto Color Emoji;line-height:1.5}*,:after,:before{box-sizing:border-box;border:0 solid #e2e8f0}a{color:inherit;text-decoration:inherit}code{font-family:Menlo,Monaco,Consolas,Liberation Mono,Courier New,monospace}svg,video{display:block;vertical-align:middle}video{max-width:100%;height:auto}.bg-white{--bg-opacity:1;background-color:#fff;background-color:rgba(255,255,255,var(--bg-opacity))}.bg-gray-100{--bg-opacity:1;background-color:#f7fafc;background-color:rgba(247,250,252,var(--bg-opacity))}.border-gray-200{--border-opacity:1;border-color:#edf2f7;border-color:rgba(237,242,247,var(--border-opacity))}.border-gray-400{--border-opacity:1;border-color:#cbd5e0;border-color:rgba(203,213,224,var(--border-opacity))}.border-t{border-top-width:1px}.border-r{border-right-width:1px}.flex{display:flex}.grid{display:grid}.hidden{display:none}.items-center{align-items:center}.justify-center{justify-content:center}.font-semibold{font-weight:600}.h-5{height:1.25rem}.h-8{height:2rem}.h-16{height:4rem}.text-sm{font-size:.875rem}.text-lg{font-size:1.125rem}.leading-7{line-height:1.75rem}.mx-auto{margin-left:auto;margin-right:auto}.ml-1{margin-left:.25rem}.mt-2{margin-top:.5rem}.mr-2{margin-right:.5rem}.ml-2{margin-left:.5rem}.mt-4{margin-top:1rem}.ml-4{margin-left:1rem}.mt-8{margin-top:2rem}.ml-12{margin-left:3rem}.-mt-px{margin-top:-1px}.max-w-xl{max-width:36rem}.max-w-6xl{max-width:72rem}.min-h-screen{min-height:100vh}.overflow-hidden{overflow:hidden}.p-6{padding:1.5rem}.py-4{padding-top:1rem;padding-bottom:1rem}.px-4{padding-left:1rem;padding-right:1rem}.px-6{padding-left:1.5rem;padding-right:1.5rem}.pt-8{padding-top:2rem}.fixed{position:fixed}.relative{position:relative}.top-0{top:0}.right-0{right:0}.shadow{box-shadow:0 1px 3px 0 rgba(0,0,0,.1),0 1px 2px 0 rgba(0,0,0,.06)}.text-center{text-align:center}.text-gray-200{--text-opacity:1;color:#edf2f7;color:rgba(237,242,247,var(--text-opacity))}.text-gray-300{--text-opacity:1;color:#e2e8f0;color:rgba(226,232,240,var(--text-opacity))}.text-gray-400{--text-opacity:1;color:#cbd5e0;color:rgba(203,213,224,var(--text-opacity))}.text-gray-500{--text-opacity:1;color:#a0aec0;color:rgba(160,174,192,var(--text-opacity))}.text-gray-600{--text-opacity:1;color:#718096;color:rgba(113,128,150,var(--text-opacity))}.text-gray-700{--text-opacity:1;color:#4a5568;color:rgba(74,85,104,var(--text-opacity))}.text-gray-900{--text-opacity:1;color:#1a202c;color:rgba(26,32,44,var(--text-opacity))}.uppercase{text-transform:uppercase}.underline{text-decoration:underline}.antialiased{-webkit-font-smoothing:antialiased;-moz-osx-font-smoothing:grayscale}.tracking-wider{letter-spacing:.05em}.w-5{width:1.25rem}.w-8{width:2rem}.w-auto{width:auto}.grid-cols-1{grid-template-columns:repeat(1,minmax(0,1fr))}@-webkit-keyframes spin{0%{transform:rotate(0deg)}to{transform:rotate(1turn)}}@keyframes spin{0%{transform:rotate(0deg)}to{transform:rotate(1turn)}}@-webkit-keyframes ping{0%{transform:scale(1);opacity:1}75%,to{transform:scale(2);opacity:0}}@keyframes ping{0%{transform:scale(1);opacity:1}75%,to{transform:scale(2);opacity:0}}@-webkit-keyframes pulse{0%,to{opacity:1}50%{opacity:.5}}@keyframes pulse{0%,to{opacity:1}50%{opacity:.5}}@-webkit-keyframes bounce{0%,to{transform:translateY(-25%);-webkit-animation-timing-function:cubic-bezier(.8,0,1,1);animation-timing-function:cubic-bezier(.8,0,1,1)}50%{transform:translateY(0);-webkit-animation-timing-function:cubic-bezier(0,0,.2,1);animation-timing-function:cubic-bezier(0,0,.2,1)}}@keyframes bounce{0%,to{transform:translateY(-25%);-webkit-animation-timing-function:cubic-bezier(.8,0,1,1);animation-timing-function:cubic-bezier(.8,0,1,1)}50%{transform:translateY(0);-webkit-animation-timing-function:cubic-bezier(0,0,.2,1);animation-timing-function:cubic-bezier(0,0,.2,1)}}@media (min-width:640px){.sm\\\\:rounded-lg{border-radius:.5rem}.sm\\\\:block{display:block}.sm\\\\:items-center{align-items:center}.sm\\\\:justify-start{justify-content:flex-start}.sm\\\\:justify-between{justify-content:space-between}.sm\\\\:h-20{height:5rem}.sm\\\\:ml-0{margin-left:0}.sm\\\\:px-6{padding-left:1.5rem;padding-right:1.5rem}.sm\\\\:pt-0{padding-top:0}.sm\\\\:text-left{text-align:left}.sm\\\\:text-right{text-align:right}}@media (min-width:768px){.md\\\\:border-t-0{border-top-width:0}.md\\\\:border-l{border-left-width:1px}.md\\\\:grid-cols-2{grid-template-columns:repeat(2,minmax(0,1fr))}}@media (min-width:1024px){.lg\\\\:px-8{padding-left:2rem;padding-right:2rem}}@media (prefers-color-scheme:dark){.dark\\\\:bg-gray-800{--bg-opacity:1;background-color:#2d3748;background-color:rgba(45,55,72,var(--bg-opacity))}.dark\\\\:bg-gray-900{--bg-opacity:1;background-color:#1a202c;background-color:rgba(26,32,44,var(--bg-opacity))}.dark\\\\:border-gray-700{--border-opacity:1;border-color:#4a5568;border-color:rgba(74,85,104,var(--border-opacity))}.dark\\\\:text-white{--text-opacity:1;color:#fff;color:rgba(255,255,255,var(--text-opacity))}.dark\\\\:text-gray-400{--text-opacity:1;color:#cbd5e0;color:rgba(203,213,224,var(--text-opacity))}}\\n        </style>\\n\\n        <style>\\n            body {\\n                font-family: ui-sans-serif, system-ui, -apple-system, BlinkMacSystemFont, \"Segoe UI\", Roboto, \"Helvetica Neue\", Arial, \"Noto Sans\", sans-serif, \"Apple Color Emoji\", \"Segoe UI Emoji\", \"Segoe UI Symbol\", \"Noto Color Emoji\";\\n            }\\n        </style>\\n    </head>\\n    <body class=\"antialiased\">\\n        <div class=\"relative flex items-top justify-center min-h-screen bg-gray-100 dark:bg-gray-900 sm:items-center sm:pt-0\">\\n            <div class=\"max-w-xl mx-auto sm:px-6 lg:px-8\">\\n                <div class=\"flex items-center pt-8 sm:justify-start sm:pt-0\">\\n                    <div class=\"px-4 text-lg text-gray-500 border-r border-gray-400 tracking-wider\">\\n                        419                    </div>\\n\\n                    <div class=\"ml-4 text-lg text-gray-500 uppercase tracking-wider\">\\n                        Page Expired                    </div>\\n                </div>\\n            </div>\\n        </div>\\n    </body>\\n</html>\\n'"
      ]
     },
     "execution_count": 36,
     "metadata": {},
     "output_type": "execute_result"
    }
   ],
   "source": [
    "r.text"
   ]
  }
 ],
 "metadata": {
  "kernelspec": {
   "display_name": "Python 3 (ipykernel)",
   "language": "python",
   "name": "python3"
  },
  "language_info": {
   "codemirror_mode": {
    "name": "ipython",
    "version": 3
   },
   "file_extension": ".py",
   "mimetype": "text/x-python",
   "name": "python",
   "nbconvert_exporter": "python",
   "pygments_lexer": "ipython3",
   "version": "3.13.7"
  }
 },
 "nbformat": 4,
 "nbformat_minor": 5
}
