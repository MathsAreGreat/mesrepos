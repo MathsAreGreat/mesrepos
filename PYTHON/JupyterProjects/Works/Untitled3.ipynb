{
 "cells": [
  {
   "cell_type": "code",
   "execution_count": 32,
   "id": "def5dae5-af61-42e3-b6ea-f3c7119d5fc6",
   "metadata": {},
   "outputs": [],
   "source": [
    "from pathlib import Path\n",
    "from Mido.variables import monhtml, aria_dwn, egybest"
   ]
  },
  {
   "cell_type": "code",
   "execution_count": 52,
   "id": "c755c332-13aa-49de-97bd-9be965c3f056",
   "metadata": {},
   "outputs": [],
   "source": [
    "headers = {\n",
    "    \"user-agent\": \"Mozilla/5.0 (X11; Linux x86_64) AppleWebKit/537.36 (KHTML, like Gecko) Chrome/124.0.0.0 Safari/537.36\",\n",
    "    \"Referer\": \"https://a.asd.homes/\"\n",
    "}"
   ]
  },
  {
   "cell_type": "code",
   "execution_count": 34,
   "id": "6b9fbf2e-cfe2-4ffc-a873-68f706ccd58d",
   "metadata": {},
   "outputs": [
    {
     "data": {
      "text/plain": [
       "('/home/mohamed/Downloads/Library/Seasons/Dexter Resurrection/S01',\n",
       " '[ArabSeed].Dexter.Resurrection.S01.E09.[1080p].(637463)')"
      ]
     },
     "execution_count": 34,
     "metadata": {},
     "output_type": "execute_result"
    }
   ],
   "source": [
    "u=\"https://a.asd.homes/%d9%85%d8%b3%d9%84%d8%b3%d9%84-dexter-resurrection-%d8%a7%d9%84%d9%85%d9%88%d8%b3%d9%85-%d8%a7%d9%84%d8%a7%d9%88%d9%84-%d8%a7%d9%84%d8%ad%d9%84%d9%82%d8%a9-9-%d8%a7%d9%84%d8%aa%d8%a7%d8%b3%d8%b9%d8%a9/\"\n",
    "soup = monhtml(u, headers=headers)\n",
    "u = soup.select_one(\".watch__btn\").get(\"href\")\n",
    "c = u.split(\"=\")[-1]\n",
    "name = soup.select_one(\"h1.post__name\").text\n",
    "egybest(c, name, \"1080\", \"ArabSeed\")"
   ]
  },
  {
   "cell_type": "code",
   "execution_count": 35,
   "id": "e5ccaab6-71d5-47a6-9fb0-5d017ae4fcad",
   "metadata": {},
   "outputs": [],
   "source": [
    "soup = monhtml(u, headers=headers)\n",
    "u = soup.iframe.get(\"src\")\n",
    "soup = monhtml(u, headers=headers)"
   ]
  },
  {
   "cell_type": "code",
   "execution_count": 36,
   "id": "0b4a53db-8c37-464f-aa50-44361fb3c8a4",
   "metadata": {},
   "outputs": [
    {
     "data": {
      "text/plain": [
       "('https://a.asd.homes/',\n",
       " '/home/mohamed/Videos',\n",
       " 'https://fhd20b1.dls4all.online/d/4aqhnfntfsrnuwfu3v6nhoxjx2rabjc2eanxeblncuqykogjxxnae7s6lfisw4ne45fwbcd4/video.mp4')"
      ]
     },
     "execution_count": 36,
     "metadata": {},
     "output_type": "execute_result"
    }
   ],
   "source": [
    "src = soup.select_one(\"source\").get(\"src\")\n",
    "(\"https://a.asd.homes/\",\"/home/mohamed/Videos\",src)"
   ]
  },
  {
   "cell_type": "code",
   "execution_count": 55,
   "id": "18fbf825-f4ac-4c05-a055-24ad4b3eb582",
   "metadata": {},
   "outputs": [
    {
     "data": {
      "text/plain": [
       "[<a href=\"https://m.gamehub.cam/\" itemprop=\"url\">Home</a>,\n",
       " <a href=\"https://m.gamehub.cam/category/arcade/\" itemprop=\"url\">Arcade</a>,\n",
       " <a href=\"https://m.gamehub.cam/category/adventure/\" itemprop=\"url\">Adventure</a>,\n",
       " <a href=\"https://m.gamehub.cam/category/sports/\" itemprop=\"url\">Sports</a>,\n",
       " <a href=\"https://m.gamehub.cam/end-user-privacy-terms/\" itemprop=\"url\">Privacy Policy</a>,\n",
       " <a href=\"https://m.gamehub.cam/contact/\" itemprop=\"url\">Contact</a>,\n",
       " <a class=\"fa-sign-in\" data-target=\"#modl-logi\" data-toggle=\"modal\" href=\"#\">LOGIN</a>,\n",
       " <a class=\"fa-search\" data-target=\"#modl-srch\" data-toggle=\"modal\" href=\"#\">SEARCH</a>,\n",
       " <a class=\"fa-share-alt\" href=\"#\">FOLLOW US</a>,\n",
       " <a class=\"fa-rss\" href=\"https://gamehub.cam/feed/\" target=\"_blank\" title=\"RSS\">\n",
       " <span>RSS</span>\n",
       " </a>,\n",
       " <a href=\"https://m.gamehub.cam\" itemprop=\"url\" title=\"GameHub – Another Great Online Game Website\">\n",
       " <img alt=\"GameHub – Another Great Online Game Website\" itemprop=\"image\" src=\"https://m.gamehub.cam/wp-content/uploads/2024/05/gamehub.png\" title=\"GameHub – Another Great Online Game Website\"/>\n",
       " </a>,\n",
       " <a href=\"https://m.gamehub.cam/\" itemprop=\"url\">Home</a>,\n",
       " <a href=\"https://m.gamehub.cam/category/arcade/\" itemprop=\"url\">Arcade</a>,\n",
       " <a href=\"https://m.gamehub.cam/category/adventure/\" itemprop=\"url\">Adventure</a>,\n",
       " <a href=\"https://m.gamehub.cam/category/sports/\" itemprop=\"url\">Sports</a>,\n",
       " <a href=\"https://m.gamehub.cam/end-user-privacy-terms/\" itemprop=\"url\">Privacy Policy</a>,\n",
       " <a href=\"https://m.gamehub.cam/contact/\" itemprop=\"url\">Contact</a>,\n",
       " <a class=\"rndgame fa-random\" href=\"https://m.gamehub.cam/?randomgame=1\" title=\"Play a random game!\">\n",
       "           RANDOM GAME        </a>,\n",
       " <a href=\"https://m.gamehub.cam/xmas-float-connect-2023/\"><img alt=\"Xmas Float Connect 2023\" height=\"60\" src=\"https://m.gamehub.cam/wp-content/uploads/2024/04/xmas-float-connect-2023-150x150.jpg\" width=\"60\"/><span class=\"fa-gamepad\"><strong>PLAY</strong> <span>NOW!</span></span></a>,\n",
       " <a href=\"https://m.gamehub.cam/xmas-float-connect-2023/\">Xmas Float Connect 2023</a>,\n",
       " <a href=\"https://m.gamehub.cam/christmas-collect/\"><img alt=\"Christmas Collect\" height=\"60\" src=\"https://m.gamehub.cam/wp-content/uploads/2024/04/christmas-collect-150x150.jpg\" width=\"60\"/><span class=\"fa-gamepad\"><strong>PLAY</strong> <span>NOW!</span></span></a>,\n",
       " <a href=\"https://m.gamehub.cam/christmas-collect/\">Christmas Collect</a>,\n",
       " <a href=\"https://m.gamehub.cam/muscle-clicker-2/\"><img alt=\"Muscle Clicker 2\" height=\"60\" src=\"https://m.gamehub.cam/wp-content/uploads/2024/04/muscle-clicker-2-150x150.jpg\" width=\"60\"/><span class=\"fa-gamepad\"><strong>PLAY</strong> <span>NOW!</span></span></a>,\n",
       " <a href=\"https://m.gamehub.cam/muscle-clicker-2/\">Muscle Clicker 2</a>,\n",
       " <a href=\"https://m.gamehub.cam/monster-match-3/\"><img alt=\"Monster Match-3\" height=\"60\" src=\"https://m.gamehub.cam/wp-content/uploads/2024/04/monster-match-3-150x150.jpg\" width=\"60\"/><span class=\"fa-gamepad\"><strong>PLAY</strong> <span>NOW!</span></span></a>,\n",
       " <a href=\"https://m.gamehub.cam/monster-match-3/\">Monster Match-3</a>,\n",
       " <a href=\"https://m.gamehub.cam/flora-combinatorix/\"><img alt=\"Flora Combinatorix\" height=\"60\" src=\"https://m.gamehub.cam/wp-content/uploads/2024/04/flora-combinatorix-150x150.jpg\" width=\"60\"/><span class=\"fa-gamepad\"><strong>PLAY</strong> <span>NOW!</span></span></a>,\n",
       " <a href=\"https://m.gamehub.cam/flora-combinatorix/\">Flora Combinatorix</a>,\n",
       " <a href=\"https://m.gamehub.cam/rodha/\"><img alt=\"Rodha\" height=\"60\" src=\"https://m.gamehub.cam/wp-content/uploads/2024/04/rodha-150x150.jpg\" width=\"60\"/><span class=\"fa-gamepad\"><strong>PLAY</strong> <span>NOW!</span></span></a>,\n",
       " <a href=\"https://m.gamehub.cam/rodha/\">Rodha</a>,\n",
       " <a href=\"https://m.gamehub.cam/jingle-juggle-merge/\"><img alt=\"Jingle Juggle Merge\" height=\"60\" src=\"https://m.gamehub.cam/wp-content/uploads/2024/04/jingle-juggle-merge-150x150.jpg\" width=\"60\"/><span class=\"fa-gamepad\"><strong>PLAY</strong> <span>NOW!</span></span></a>,\n",
       " <a href=\"https://m.gamehub.cam/jingle-juggle-merge/\">Jingle Juggle Merge</a>,\n",
       " <a href=\"https://m.gamehub.cam/pixel-craft-hide-and-seek/\"><img alt=\"Pixel Craft – Hide and Seek\" height=\"60\" src=\"https://m.gamehub.cam/wp-content/uploads/2024/04/pixel-craft-hide-and-seek-150x150.jpg\" width=\"60\"/><span class=\"fa-gamepad\"><strong>PLAY</strong> <span>NOW!</span></span></a>,\n",
       " <a href=\"https://m.gamehub.cam/pixel-craft-hide-and-seek/\">Pixel Craft – Hide ..</a>,\n",
       " <a href=\"https://m.gamehub.cam/gold-strike-icy-cave/\"><img alt=\"Gold Strike Icy Cave\" height=\"60\" src=\"https://m.gamehub.cam/wp-content/uploads/2024/04/gold-strike-icy-cave-150x150.jpg\" width=\"60\"/><span class=\"fa-gamepad\"><strong>PLAY</strong> <span>NOW!</span></span></a>,\n",
       " <a href=\"https://m.gamehub.cam/gold-strike-icy-cave/\">Gold Strike Icy Cave</a>,\n",
       " <a href=\"https://m.gamehub.cam/christmas-block-challenge/\"><img alt=\"Christmas Block Challenge\" height=\"60\" src=\"https://m.gamehub.cam/wp-content/uploads/2024/04/christmas-block-challenge-150x150.jpg\" width=\"60\"/><span class=\"fa-gamepad\"><strong>PLAY</strong> <span>NOW!</span></span></a>,\n",
       " <a href=\"https://m.gamehub.cam/christmas-block-challenge/\">Christmas Block Challenge</a>,\n",
       " <a href=\"https://m.gamehub.cam/merge-monster-rainbow-master/\"><img alt=\"Merge Monster: Rainbow Master\" height=\"60\" src=\"https://m.gamehub.cam/wp-content/uploads/2024/04/merge-monster-rainbow-master-150x135.jpg\" width=\"60\"/><span class=\"fa-gamepad\"><strong>PLAY</strong> <span>NOW!</span></span></a>,\n",
       " <a href=\"https://m.gamehub.cam/merge-monster-rainbow-master/\">Merge Monster: Rainbow ..</a>,\n",
       " <a href=\"https://m.gamehub.cam/stupid-zombies-online/\"><img alt=\"Stupid Zombies Online\" height=\"60\" src=\"https://m.gamehub.cam/wp-content/uploads/2024/04/stupid-zombies-online-150x135.jpg\" width=\"60\"/><span class=\"fa-gamepad\"><strong>PLAY</strong> <span>NOW!</span></span></a>,\n",
       " <a href=\"https://m.gamehub.cam/stupid-zombies-online/\">Stupid Zombies Online</a>,\n",
       " <a href=\"https://m.gamehub.cam/jigsaw-puzzle-seal/\"><img alt=\"Jigsaw Puzzle: Seal\" height=\"60\" src=\"https://m.gamehub.cam/wp-content/uploads/2024/04/jigsaw-puzzle-seal-150x135.jpg\" width=\"60\"/><span class=\"fa-gamepad\"><strong>PLAY</strong> <span>NOW!</span></span></a>,\n",
       " <a href=\"https://m.gamehub.cam/jigsaw-puzzle-seal/\">Jigsaw Puzzle: Seal</a>,\n",
       " <a href=\"https://m.gamehub.cam/story-teller/\"><img alt=\"Story Teller\" height=\"60\" src=\"https://m.gamehub.cam/wp-content/uploads/2024/04/story-teller-150x135.jpg\" width=\"60\"/><span class=\"fa-gamepad\"><strong>PLAY</strong> <span>NOW!</span></span></a>,\n",
       " <a href=\"https://m.gamehub.cam/story-teller/\">Story Teller</a>,\n",
       " <a href=\"https://m.gamehub.cam/going-up-3d-parkour-adventure/\"><img alt=\"Going Up! 3D Parkour Adventure\" height=\"60\" src=\"https://m.gamehub.cam/wp-content/uploads/2024/04/going-up-3d-parkour-adventure-150x135.jpg\" width=\"60\"/><span class=\"fa-gamepad\"><strong>PLAY</strong> <span>NOW!</span></span></a>,\n",
       " <a href=\"https://m.gamehub.cam/going-up-3d-parkour-adventure/\">Going Up! 3D Parkour ..</a>,\n",
       " <a href=\"https://m.gamehub.cam/jungle-animal-hair-salon/\"><img alt=\"Jungle Animal Hair Salon\" height=\"60\" src=\"https://m.gamehub.cam/wp-content/uploads/2024/04/jungle-animal-hair-salon-150x135.jpg\" width=\"60\"/><span class=\"fa-gamepad\"><strong>PLAY</strong> <span>NOW!</span></span></a>,\n",
       " <a href=\"https://m.gamehub.cam/jungle-animal-hair-salon/\">Jungle Animal Hair Salon</a>,\n",
       " <a href=\"https://m.gamehub.cam/robot-shark-attack-pvp/\"><img alt=\"Robot Shark Attack PVP\" height=\"60\" src=\"https://m.gamehub.cam/wp-content/uploads/2024/04/robot-shark-attack-pvp-150x135.jpg\" width=\"60\"/><span class=\"fa-gamepad\"><strong>PLAY</strong> <span>NOW!</span></span></a>,\n",
       " <a href=\"https://m.gamehub.cam/robot-shark-attack-pvp/\">Robot Shark Attack PVP</a>,\n",
       " <a href=\"https://m.gamehub.cam/space-room-escape/\"><img alt=\"Space Room Escape\" height=\"60\" src=\"https://m.gamehub.cam/wp-content/uploads/2024/04/space-room-escape-150x135.jpg\" width=\"60\"/><span class=\"fa-gamepad\"><strong>PLAY</strong> <span>NOW!</span></span></a>,\n",
       " <a href=\"https://m.gamehub.cam/space-room-escape/\">Space Room Escape</a>,\n",
       " <a href=\"https://m.gamehub.cam/rival-stars-horse-racing/\"><img alt=\"Rival Stars Horse Racing\" height=\"60\" src=\"https://m.gamehub.cam/wp-content/uploads/2024/04/rival-stars-horse-racing-150x135.jpg\" width=\"60\"/><span class=\"fa-gamepad\"><strong>PLAY</strong> <span>NOW!</span></span></a>,\n",
       " <a href=\"https://m.gamehub.cam/rival-stars-horse-racing/\">Rival Stars Horse Racing</a>,\n",
       " <a href=\"https://m.gamehub.cam/jigsaw-puzzle-sleeping/\"><img alt=\"Jigsaw Puzzle: Sleeping\" height=\"60\" src=\"https://m.gamehub.cam/wp-content/uploads/2024/04/jigsaw-puzzle-sleeping-150x135.jpg\" width=\"60\"/><span class=\"fa-gamepad\"><strong>PLAY</strong> <span>NOW!</span></span></a>,\n",
       " <a href=\"https://m.gamehub.cam/jigsaw-puzzle-sleeping/\">Jigsaw Puzzle: Sleeping</a>,\n",
       " <a href=\"https://m.gamehub.cam/xmas-float-connect-2023/\" title=\"Xmas Float Connect 2023\">Xmas Float Connect 2023</a>,\n",
       " <a href=\"https://m.gamehub.cam/christmas-collect/\" title=\"Christmas Collect\">Christmas Collect</a>,\n",
       " <a href=\"https://m.gamehub.cam/muscle-clicker-2/\" title=\"Muscle Clicker 2\">Muscle Clicker 2</a>,\n",
       " <a href=\"https://m.gamehub.cam/monster-match-3/\" title=\"Monster Match-3\">Monster Match-3</a>,\n",
       " <a href=\"https://m.gamehub.cam/flora-combinatorix/\" title=\"Flora Combinatorix\">Flora Combinatorix</a>,\n",
       " <a href=\"https://m.gamehub.cam/rodha/\" title=\"Rodha\">Rodha</a>,\n",
       " <a href=\"https://m.gamehub.cam/jingle-juggle-merge/\" title=\"Jingle Juggle Merge\">Jingle Juggle Merge</a>,\n",
       " <a href=\"https://m.gamehub.cam/pixel-craft-hide-and-seek/\" title=\"Pixel Craft – Hide and Seek\">Pixel Craft – Hide and Seek</a>,\n",
       " <a href=\"https://m.gamehub.cam/gold-strike-icy-cave/\" title=\"Gold Strike Icy Cave\">Gold Strike Icy Cave</a>,\n",
       " <a href=\"https://m.gamehub.cam/christmas-block-challenge/\" title=\"Christmas Block Challenge\">Christmas Block Challenge</a>,\n",
       " <a class=\"fa-home\" href=\"https://m.gamehub.cam/\" title=\"Home\">\n",
       "       Home    </a>,\n",
       " <a href=\"https://m.gamehub.cam/bomber-battle-arena/\" title=\"Bomber Battle Arena\">\n",
       " <img alt=\"Bomber Battle Arena\" class=\"background-placeholder\" data-echo=\"https://m.gamehub.cam/wp-content/uploads/2024/04/bomber-battle-arena-150x135.jpg\" height=\"148\" src=\"https://m.gamehub.cam/wp-content/themes/ghubnew/images/placeholder.gif\" width=\"148\"/><noscript><img alt=\"Bomber Battle Arena\" class=\"background-placeholder\" height=\"148\" src=\"https://m.gamehub.cam/wp-content/uploads/2024/04/bomber-battle-arena-150x135.jpg\" width=\"148\"/></noscript> </a>,\n",
       " <a href=\"https://m.gamehub.cam/category/other/\" rel=\"category tag\">Other</a>,\n",
       " <a href=\"https://m.gamehub.cam/bomber-battle-arena/\" title=\"Bomber Battle Arena\">\n",
       "           Bomber Battle Arena        </a>,\n",
       " <a href=\"https://m.gamehub.cam/robot-shark-attack-pvp/\" title=\"Robot Shark Attack PVP\">\n",
       " <img alt=\"Robot Shark Attack PVP\" class=\"background-placeholder\" data-echo=\"https://m.gamehub.cam/wp-content/uploads/2024/04/robot-shark-attack-pvp-150x135.jpg\" height=\"148\" src=\"https://m.gamehub.cam/wp-content/themes/ghubnew/images/placeholder.gif\" width=\"148\"/><noscript><img alt=\"Robot Shark Attack PVP\" class=\"background-placeholder\" height=\"148\" src=\"https://m.gamehub.cam/wp-content/uploads/2024/04/robot-shark-attack-pvp-150x135.jpg\" width=\"148\"/></noscript> </a>,\n",
       " <a href=\"https://m.gamehub.cam/category/other/\" rel=\"category tag\">Other</a>,\n",
       " <a href=\"https://m.gamehub.cam/robot-shark-attack-pvp/\" title=\"Robot Shark Attack PVP\">\n",
       "           Robot Shark Attack PVP        </a>,\n",
       " <a href=\"https://m.gamehub.cam/rival-stars-horse-racing/\" title=\"Rival Stars Horse Racing\">\n",
       " <img alt=\"Rival Stars Horse Racing\" class=\"background-placeholder\" data-echo=\"https://m.gamehub.cam/wp-content/uploads/2024/04/rival-stars-horse-racing-150x135.jpg\" height=\"148\" src=\"https://m.gamehub.cam/wp-content/themes/ghubnew/images/placeholder.gif\" width=\"148\"/><noscript><img alt=\"Rival Stars Horse Racing\" class=\"background-placeholder\" height=\"148\" src=\"https://m.gamehub.cam/wp-content/uploads/2024/04/rival-stars-horse-racing-150x135.jpg\" width=\"148\"/></noscript> </a>,\n",
       " <a href=\"https://m.gamehub.cam/category/other/\" rel=\"category tag\">Other</a>,\n",
       " <a href=\"https://m.gamehub.cam/rival-stars-horse-racing/\" title=\"Rival Stars Horse Racing\">\n",
       "           Rival Stars Horse Racing        </a>,\n",
       " <a href=\"https://m.gamehub.cam/super-race-3d-by-freegames/\" title=\"Super Race 3D By Freegames\">\n",
       " <img alt=\"Super Race 3D By Freegames\" class=\"background-placeholder\" data-echo=\"https://m.gamehub.cam/wp-content/uploads/2024/04/super-race-3d-by-freegames-150x135.jpg\" height=\"148\" src=\"https://m.gamehub.cam/wp-content/themes/ghubnew/images/placeholder.gif\" width=\"148\"/><noscript><img alt=\"Super Race 3D By Freegames\" class=\"background-placeholder\" height=\"148\" src=\"https://m.gamehub.cam/wp-content/uploads/2024/04/super-race-3d-by-freegames-150x135.jpg\" width=\"148\"/></noscript> </a>,\n",
       " <a href=\"https://m.gamehub.cam/category/other/\" rel=\"category tag\">Other</a>,\n",
       " <a href=\"https://m.gamehub.cam/super-race-3d-by-freegames/\" title=\"Super Race 3D By Freegames\">\n",
       "           Super Race 3D By Freegames        </a>,\n",
       " <a href=\"https://m.gamehub.cam/hot-pepper-challenge/\" title=\"Hot Pepper Challenge\">\n",
       " <img alt=\"Hot Pepper Challenge\" class=\"background-placeholder\" data-echo=\"https://m.gamehub.cam/wp-content/uploads/2024/04/hot-pepper-challenge-150x135.jpg\" height=\"148\" src=\"https://m.gamehub.cam/wp-content/themes/ghubnew/images/placeholder.gif\" width=\"148\"/><noscript><img alt=\"Hot Pepper Challenge\" class=\"background-placeholder\" height=\"148\" src=\"https://m.gamehub.cam/wp-content/uploads/2024/04/hot-pepper-challenge-150x135.jpg\" width=\"148\"/></noscript> </a>,\n",
       " <a href=\"https://m.gamehub.cam/category/other/\" rel=\"category tag\">Other</a>,\n",
       " <a href=\"https://m.gamehub.cam/hot-pepper-challenge/\" title=\"Hot Pepper Challenge\">\n",
       "           Hot Pepper Challenge        </a>,\n",
       " <a href=\"https://m.gamehub.cam/cute-cat-coffee/\" title=\"Cute Cat Coffee\">\n",
       " <img alt=\"Cute Cat Coffee\" class=\"background-placeholder\" data-echo=\"https://m.gamehub.cam/wp-content/uploads/2024/04/cute-cat-coffee-150x135.jpg\" height=\"148\" src=\"https://m.gamehub.cam/wp-content/themes/ghubnew/images/placeholder.gif\" width=\"148\"/><noscript><img alt=\"Cute Cat Coffee\" class=\"background-placeholder\" height=\"148\" src=\"https://m.gamehub.cam/wp-content/uploads/2024/04/cute-cat-coffee-150x135.jpg\" width=\"148\"/></noscript> </a>,\n",
       " <a href=\"https://m.gamehub.cam/category/other/\" rel=\"category tag\">Other</a>,\n",
       " <a href=\"https://m.gamehub.cam/cute-cat-coffee/\" title=\"Cute Cat Coffee\">\n",
       "           Cute Cat Coffee        </a>,\n",
       " <a href=\"https://m.gamehub.cam/coloring-games-color-paint/\" title=\"Coloring Games Color Paint\">\n",
       " <img alt=\"Coloring Games Color Paint\" class=\"background-placeholder\" data-echo=\"https://m.gamehub.cam/wp-content/uploads/2024/04/coloring-games-color-paint-150x135.jpg\" height=\"148\" src=\"https://m.gamehub.cam/wp-content/themes/ghubnew/images/placeholder.gif\" width=\"148\"/><noscript><img alt=\"Coloring Games Color Paint\" class=\"background-placeholder\" height=\"148\" src=\"https://m.gamehub.cam/wp-content/uploads/2024/04/coloring-games-color-paint-150x135.jpg\" width=\"148\"/></noscript> </a>,\n",
       " <a href=\"https://m.gamehub.cam/category/other/\" rel=\"category tag\">Other</a>,\n",
       " <a href=\"https://m.gamehub.cam/coloring-games-color-paint/\" title=\"Coloring Games Color Paint\">\n",
       "           Coloring Games Color Paint        </a>,\n",
       " <a href=\"https://m.gamehub.cam/shape-change-transform-race/\" title=\"Shape Change – Transform Race\">\n",
       " <img alt=\"Shape Change – Transform Race\" class=\"background-placeholder\" data-echo=\"https://m.gamehub.cam/wp-content/uploads/2024/04/shape-change-transform-race-150x135.jpg\" height=\"148\" src=\"https://m.gamehub.cam/wp-content/themes/ghubnew/images/placeholder.gif\" width=\"148\"/><noscript><img alt=\"Shape Change – Transform Race\" class=\"background-placeholder\" height=\"148\" src=\"https://m.gamehub.cam/wp-content/uploads/2024/04/shape-change-transform-race-150x135.jpg\" width=\"148\"/></noscript> </a>,\n",
       " <a href=\"https://m.gamehub.cam/category/other/\" rel=\"category tag\">Other</a>,\n",
       " <a href=\"https://m.gamehub.cam/shape-change-transform-race/\" title=\"Shape Change – Transform Race\">\n",
       "           Shape Change – Transform Race        </a>,\n",
       " <a href=\"https://m.gamehub.cam/boat-merge-race/\" title=\"Boat Merge &amp; Race\">\n",
       " <img alt=\"Boat Merge &amp; Race\" class=\"background-placeholder\" data-echo=\"https://m.gamehub.cam/wp-content/uploads/2024/04/boat-merge-race-150x135.jpg\" height=\"148\" src=\"https://m.gamehub.cam/wp-content/themes/ghubnew/images/placeholder.gif\" width=\"148\"/><noscript><img alt=\"Boat Merge &amp; Race\" class=\"background-placeholder\" height=\"148\" src=\"https://m.gamehub.cam/wp-content/uploads/2024/04/boat-merge-race-150x135.jpg\" width=\"148\"/></noscript> </a>,\n",
       " <a href=\"https://m.gamehub.cam/category/other/\" rel=\"category tag\">Other</a>,\n",
       " <a href=\"https://m.gamehub.cam/boat-merge-race/\" title=\"Boat Merge &amp; Race\">\n",
       "           Boat Merge &amp; Race        </a>,\n",
       " <a href=\"https://m.gamehub.cam/xmas-merge-2048-ball/\" title=\"Xmas Merge: 2048 Ball\">\n",
       " <img alt=\"Xmas Merge: 2048 Ball\" class=\"background-placeholder\" data-echo=\"https://m.gamehub.cam/wp-content/uploads/2024/04/xmas-merge-2048-ball-150x135.jpg\" height=\"148\" src=\"https://m.gamehub.cam/wp-content/themes/ghubnew/images/placeholder.gif\" width=\"148\"/><noscript><img alt=\"Xmas Merge: 2048 Ball\" class=\"background-placeholder\" height=\"148\" src=\"https://m.gamehub.cam/wp-content/uploads/2024/04/xmas-merge-2048-ball-150x135.jpg\" width=\"148\"/></noscript> </a>,\n",
       " <a href=\"https://m.gamehub.cam/category/other/\" rel=\"category tag\">Other</a>,\n",
       " <a href=\"https://m.gamehub.cam/xmas-merge-2048-ball/\" title=\"Xmas Merge: 2048 Ball\">\n",
       "           Xmas Merge: 2048 Ball        </a>,\n",
       " <a class=\"page larger\" href=\"https://m.gamehub.cam/category/other/page/2/?r=861276359&amp;mon=1\" title=\"Page 2\">2</a>,\n",
       " <a class=\"page larger\" href=\"https://m.gamehub.cam/category/other/page/3/?r=861276359&amp;mon=1\" title=\"Page 3\">3</a>,\n",
       " <a class=\"page larger\" href=\"https://m.gamehub.cam/category/other/page/4/?r=861276359&amp;mon=1\" title=\"Page 4\">4</a>,\n",
       " <a class=\"page larger\" href=\"https://m.gamehub.cam/category/other/page/5/?r=861276359&amp;mon=1\" title=\"Page 5\">5</a>,\n",
       " <a class=\"larger page\" href=\"https://m.gamehub.cam/category/other/page/10/?r=861276359&amp;mon=1\" title=\"Page 10\">10</a>,\n",
       " <a aria-label=\"Next Page\" class=\"nextpostslink\" href=\"https://m.gamehub.cam/category/other/page/2/?r=861276359&amp;mon=1\" rel=\"next\">»</a>,\n",
       " <a aria-label=\"Last Page\" class=\"last\" href=\"https://m.gamehub.cam/category/other/page/14/?r=861276359&amp;mon=1\">Last »</a>,\n",
       " <a href=\"/\">Home</a>,\n",
       " <a href=\"//m.gamehub.cam/dmca-disclaimer/\">DMCA Disclaimer</a>,\n",
       " <a href=\"//m.gamehub.cam/end-user-privacy-terms/\">Privacy Policy</a>,\n",
       " <a href=\"//m.gamehub.cam/end-user-terms-and-conditions/\">Terms and Conditions</a>,\n",
       " <a href=\"//m.gamehub.cam/contact/\">Contact</a>,\n",
       " <a class=\"botn-gtop fa-chevron-up\" href=\"#hd\" title=\"Back to Top\"></a>,\n",
       " <a href=\"https://m.gamehub.cam/wp-login.php?action=lostpassword\">Lost password?</a>]"
      ]
     },
     "execution_count": 55,
     "metadata": {},
     "output_type": "execute_result"
    }
   ],
   "source": [
    "u=\"https://m.gamehub.cam/category/other/?r=861276359&mon=1\"\n",
    "headers = {\n",
    "    \"user-agent\": \"Mozilla/5.0 (X11; Linux x86_64) AppleWebKit/537.36 (KHTML, like Gecko) Chrome/124.0.0.0 Safari/537.36\",\n",
    "    \"Referer\": \"https://m.gamehub.cam\"\n",
    "}\n",
    "soup = monhtml(u, headers=headers)\n",
    "soup.select(\"a\")"
   ]
  }
 ],
 "metadata": {
  "kernelspec": {
   "display_name": "Python 3 (ipykernel)",
   "language": "python",
   "name": "python3"
  },
  "language_info": {
   "codemirror_mode": {
    "name": "ipython",
    "version": 3
   },
   "file_extension": ".py",
   "mimetype": "text/x-python",
   "name": "python",
   "nbconvert_exporter": "python",
   "pygments_lexer": "ipython3",
   "version": "3.13.7"
  }
 },
 "nbformat": 4,
 "nbformat_minor": 5
}
