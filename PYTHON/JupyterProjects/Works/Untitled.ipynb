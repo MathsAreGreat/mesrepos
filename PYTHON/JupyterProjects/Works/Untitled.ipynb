{
 "cells": [
  {
   "cell_type": "code",
   "execution_count": 38,
   "id": "def5dae5-af61-42e3-b6ea-f3c7119d5fc6",
   "metadata": {},
   "outputs": [],
   "source": [
    "from playwright.async_api import async_playwright\n",
    "import asyncio\n",
    "import json\n",
    "from pathlib import Path\n",
    "from random import shuffle"
   ]
  },
  {
   "cell_type": "code",
   "execution_count": 39,
   "id": "1302edd3-f5aa-4375-adbd-972c060b73ed",
   "metadata": {},
   "outputs": [],
   "source": [
    "def generate(nb):\n",
    "    datas = \"azertyuiopmlkjhgfdsqwxcvbn\"\n",
    "    datas += datas.upper() + \"1234567890\"\n",
    "    datas = list(datas) * nb\n",
    "    shuffle(datas)\n",
    "    return \"\".join(datas[:nb])"
   ]
  },
  {
   "cell_type": "code",
   "execution_count": 40,
   "id": "7401e3d6-e039-416c-ab05-07fe32d6816b",
   "metadata": {},
   "outputs": [],
   "source": [
    "async def main():\n",
    "    async with async_playwright() as p:\n",
    "        browser = await p.firefox.launch(slow_mo=3000)\n",
    "\n",
    "        # Create context first\n",
    "        context = await browser.new_context()\n",
    "\n",
    "        # Create page inside the context\n",
    "        page = await context.new_page()\n",
    "\n",
    "        url = \"https://witanime.cyou/episode/katainaka-no-ossan-kensei-ni-naru-%d8%a7%d9%84%d8%ad%d9%84%d9%82%d8%a9-7/\"\n",
    "        await page.goto(url, wait_until=\"domcontentloaded\")\n",
    "\n",
    "        # Click element via evaluate\n",
    "        shortlink = await page.evaluate(\"\"\"() => {\n",
    "            const footer = document.querySelector(\"link[rel='shortlink']\");\n",
    "            p = footer.href.split('=').pop();\n",
    "            return p;\n",
    "        }\"\"\")\n",
    "\n",
    "\n",
    "        # Click element via evaluate\n",
    "        servers = await page.evaluate(\"\"\"() => {\n",
    "            const footer = document.querySelectorAll('.server-link');\n",
    "            return footer;\n",
    "        }\"\"\")\n",
    "\n",
    "        i=0\n",
    "\n",
    "        iframe = \"\"\n",
    "        iframes = {}\n",
    "\n",
    "        while i<len(servers):\n",
    "            \n",
    "            # Click element via evaluate\n",
    "            key = await page.evaluate(\"\"\"(index) => {\n",
    "                const footer = document.querySelectorAll('.server-link');\n",
    "                footer[index].click();\n",
    "                return footer[index].textContent.trim();\n",
    "            }\"\"\", i)\n",
    "\n",
    "            i+=1\n",
    "            \n",
    "            # Wait for iframe or whatever needs to load\n",
    "            await asyncio.sleep(1)  # Prefer asyncio.sleep in async code\n",
    "    \n",
    "            # Now get all pages in the same context (including your original page + new tabs if any)\n",
    "            pages = context.pages\n",
    "    \n",
    "            # Close all tabs but the first one\n",
    "            for p in pages[1:]:\n",
    "                await p.close()\n",
    "            while True:\n",
    "                # Get iframe src on the first page\n",
    "                iframe_src = await page.evaluate(\"\"\"() => {\n",
    "                    const iframe = document.querySelector('#iframe-container').querySelector('iframe');\n",
    "                    return iframe.src;\n",
    "                }\"\"\")\n",
    "                if iframe != iframe_src:\n",
    "                    iframe = iframe_src\n",
    "                    break\n",
    "                await asyncio.sleep(0.5)\n",
    "            print(\">\", key)\n",
    "            iframes[key]=iframe_src\n",
    "            \n",
    "\n",
    "        # Keep browser open for a while to observe\n",
    "        \n",
    "        await browser.close()\n",
    "        return shortlink, iframes\n",
    "\n",
    "# dd = await main()"
   ]
  },
  {
   "cell_type": "code",
   "execution_count": 41,
   "id": "6628db6a-f6e6-4281-abbf-562df39ddb5e",
   "metadata": {},
   "outputs": [],
   "source": [
    "parent = Path(\"/home/mohamed/Documents/datas/Docker\")\n",
    "fn = parent / \"cours.json\"\n",
    "\n",
    "with fn.open(\"r\") as fl:\n",
    "    datas = json.load(fl)"
   ]
  },
  {
   "cell_type": "code",
   "execution_count": 42,
   "id": "9d92cad3-b7bc-48d1-bcf9-5bac8821f163",
   "metadata": {},
   "outputs": [
    {
     "data": {
      "text/plain": [
       "dict_keys(['_id', 'chapter', 'chapter_id', 'code', 'content', 'nb', 'title'])"
      ]
     },
     "execution_count": 42,
     "metadata": {},
     "output_type": "execute_result"
    }
   ],
   "source": [
    "datas[0].keys()"
   ]
  },
  {
   "cell_type": "code",
   "execution_count": 43,
   "id": "ee93e466-8ec1-4c79-94d5-ea4efe318e1e",
   "metadata": {},
   "outputs": [],
   "source": [
    "cours = {}\n",
    "chps = {}\n",
    "for data in datas:\n",
    "    code = generate(20)\n",
    "    key = data[\"chapter_id\"]\n",
    "    cours[code] = {\n",
    "        \"title\": data[\"title\"],\n",
    "        \"chapter\": key,\n",
    "        \"content\": data[\"content\"]\n",
    "    }\n",
    "    chps[key]={\n",
    "        \"name\": data[\"chapter\"],\n",
    "        \"level\": \"All\"\n",
    "    }"
   ]
  },
  {
   "cell_type": "code",
   "execution_count": 44,
   "id": "e5ccaab6-71d5-47a6-9fb0-5d017ae4fcad",
   "metadata": {},
   "outputs": [],
   "source": [
    "with Path(\"/home/mohamed/Documents/datas/Docker/s_cours.json\").open(\"w\") as fl:\n",
    "    json.dump(cours, fl)\n",
    "with Path(\"/home/mohamed/Documents/datas/Docker/s_chps.json\").open(\"w\") as fl:\n",
    "    json.dump(chps, fl)"
   ]
  }
 ],
 "metadata": {
  "kernelspec": {
   "display_name": "Python 3 (ipykernel)",
   "language": "python",
   "name": "python3"
  },
  "language_info": {
   "codemirror_mode": {
    "name": "ipython",
    "version": 3
   },
   "file_extension": ".py",
   "mimetype": "text/x-python",
   "name": "python",
   "nbconvert_exporter": "python",
   "pygments_lexer": "ipython3",
   "version": "3.13.7"
  }
 },
 "nbformat": 4,
 "nbformat_minor": 5
}
