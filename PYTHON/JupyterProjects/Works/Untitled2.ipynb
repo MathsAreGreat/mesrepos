{
 "cells": [
  {
   "cell_type": "code",
   "execution_count": 38,
   "id": "5cd3b326-d0bf-46aa-94b2-4ac977158fb5",
   "metadata": {},
   "outputs": [],
   "source": [
    "import json\n",
    "import pandas as pd\n",
    "import numpy as np\n",
    "from pathlib import Path"
   ]
  },
  {
   "cell_type": "code",
   "execution_count": 39,
   "id": "3c1db56b-1e3d-4978-956a-6e703655ad3f",
   "metadata": {},
   "outputs": [],
   "source": [
    "year = None"
   ]
  },
  {
   "cell_type": "code",
   "execution_count": 56,
   "id": "1018d756-9a27-4576-8553-9e0e66393158",
   "metadata": {},
   "outputs": [],
   "source": [
    "def filt_dfs(xls, sheet, year):\n",
    "    df = xls.parse(sheet)\n",
    "    cl = df.iloc[12, 13]\n",
    "    nl = df.iloc[12, 4]\n",
    "    print(f\"{cl},\", nl)\n",
    "    if not year:\n",
    "        year = df.iloc[7, 23].replace(\"/\", \"-\")\n",
    "    df = df.iloc[16:, 2:].dropna(axis=1, how='all')\n",
    "    # first_name,last_name,email,student_id,current_class,gender,date_of_birth\n",
    "    df.columns = [\"student_id\", \"last_name\", \"first_name\", \"gender\", \"date_of_birth\", \"Place\"]\n",
    "    df.fillna(\"\", inplace=True)\n",
    "    df[\"date_of_birth\"] = pd.to_datetime(df[\"date_of_birth\"]).dt.strftime(\"%Y-%m-%d\")\n",
    "    for c in [\"last_name\", \"first_name\", \"gender\", \"Place\"]:\n",
    "        df[c] = df[c].str.title()\n",
    "        df[c] = df[c].str.strip()\n",
    "    df = df.drop('Place', axis=1)\n",
    "    df[\"current_class\"] = cl.replace(\"--\", \"-\")\n",
    "    df[\"email\"] = \"student@company.com\"\n",
    "    df[\"gender\"] = np.where(df['gender'] == 'Garçon', 'M', 'F')\n",
    "    df = df[[\"first_name\", \"last_name\", \"email\", \"student_id\", 'current_class', \"gender\", \"date_of_birth\"]]\n",
    "    return df, year"
   ]
  },
  {
   "cell_type": "markdown",
   "id": "327ff4ec-af41-4f07-9a9a-dfc1da9d4078",
   "metadata": {},
   "source": [
    "# Step 1: Load the Excel file"
   ]
  },
  {
   "cell_type": "code",
   "execution_count": 41,
   "id": "e10e0791-c564-439f-85bc-4f69d94973ed",
   "metadata": {},
   "outputs": [],
   "source": [
    "xls = pd.ExcelFile(\"/home/mohamed/Downloads/Files/Xlss/listeleve_202206232francais.xls\")\n",
    "pd.set_option('future.no_silent_downcasting', True)"
   ]
  },
  {
   "cell_type": "code",
   "execution_count": 42,
   "id": "f45750fb-069e-4c6f-9e42-f07931c4948d",
   "metadata": {},
   "outputs": [],
   "source": [
    "sheets = xls.sheet_names"
   ]
  },
  {
   "cell_type": "code",
   "execution_count": 57,
   "id": "b433b848-7175-466b-b486-6f1c62d9f4bb",
   "metadata": {},
   "outputs": [
    {
     "name": "stdout",
     "output_type": "stream",
     "text": [
      "TCSF-1, Tronc commun Sciences - Option Français\n",
      "TCSF-2, Tronc commun Sciences - Option Français\n",
      "TCSF-3, Tronc commun Sciences - Option Français\n",
      "1APIC-1, 1ère Année  Collégial Parcours International\n",
      "1APIC-2, 1ère Année  Collégial Parcours International\n",
      "1APIC-3, 1ère Année  Collégial Parcours International\n",
      "1APIC-4, 1ère Année  Collégial Parcours International\n",
      "1APIC-5, 1ère Année  Collégial Parcours International\n",
      "1APIC-6, 1ère Année  Collégial Parcours International\n",
      "1APIC-7, 1ère Année  Collégial Parcours International\n",
      "1APIC-8, 1ère Année  Collégial Parcours International\n",
      "1APIC-9, 1ère Année  Collégial Parcours International\n",
      "2APIC-1, 2ème Année Collégial Parcours International\n",
      "2APIC-2, 2ème Année Collégial Parcours International\n",
      "2APIC-3, 2ème Année Collégial Parcours International\n",
      "2APIC-4, 2ème Année Collégial Parcours International\n",
      "2APIC-5, 2ème Année Collégial Parcours International\n",
      "2APIC-6, 2ème Année Collégial Parcours International\n",
      "2APIC-7, 2ème Année Collégial Parcours International\n",
      "2APIC-8, 2ème Année Collégial Parcours International\n",
      "2APIC-9, 2ème Année Collégial Parcours International\n",
      "3APIC-1, 3ème Année Collégial Parcours International\n",
      "3APIC-2, 3ème Année Collégial Parcours International\n",
      "3APIC-3, 3ème Année Collégial Parcours International\n",
      "3APIC-4, 3ème Année Collégial Parcours International\n",
      "3APIC-5, 3ème Année Collégial Parcours International\n",
      "3APIC-6, 3ème Année Collégial Parcours International\n",
      "3APIC-7, 3ème Année Collégial Parcours International\n",
      "3APIC-8, 3ème Année Collégial Parcours International\n",
      "3APIC-9, 3ème Année Collégial Parcours International\n",
      "1APIC-10, 1ère Année  Collégial Parcours International\n",
      "1APIC-11, 1ère Année  Collégial Parcours International\n",
      "1APIC-12, 1ère Année  Collégial Parcours International\n",
      "1APIC-13, 1ère Année  Collégial Parcours International\n",
      "1APIC-14, 1ère Année  Collégial Parcours International\n",
      "1APIC-15, 1ère Année  Collégial Parcours International\n",
      "2BACLF-1, 2ème Année Bac Lettres - Option Français\n",
      "3APIC-10, 3ème Année Collégial Parcours International\n",
      "3APIC-11, 3ème Année Collégial Parcours International\n",
      "TCLSHF-1, Tronc Commun Lettres et Sciences Humaines- Option Français\n",
      "1BACSEF-1, 1ère Année Bac Sciences Expérimentales - Option Français\n",
      "1BACSEF-2, 1ère Année Bac Sciences Expérimentales - Option Français\n",
      "1BACSEF-3, 1ère Année Bac Sciences Expérimentales - Option Français\n",
      "1BACSHF-1, 1ère Année Bac Lettres et Sciences Humaines - Option Françai\n",
      "1BACSHF-2, 1ère Année Bac Lettres et Sciences Humaines - Option Françai\n",
      "1BACSHF-3, 1ère Année Bac Lettres et Sciences Humaines - Option Françai\n",
      "2BACSHF-1, 2ème Année Bac Sciences Humaines - Option Français\n",
      "2BACSPF-1, 2ème Année Bac Sciences Physiques - Option Français\n"
     ]
    }
   ],
   "source": [
    "result = pd.DataFrame()\n",
    "seasons = pd.DataFrame()\n",
    "for sheet in sheets:\n",
    "    df, year = filt_dfs(xls, sheet, year)\n",
    "    result = pd.concat([result, df])"
   ]
  },
  {
   "cell_type": "code",
   "execution_count": 58,
   "id": "7300431b-91dd-45b8-8fea-30deb99fc84e",
   "metadata": {},
   "outputs": [],
   "source": [
    "result.to_csv(\"/home/mohamed/Downloads/result.csv\",index=False)"
   ]
  },
  {
   "cell_type": "code",
   "execution_count": 52,
   "id": "55a8d1a4-b9d9-441b-a9c5-d712d070d7cf",
   "metadata": {},
   "outputs": [
    {
     "ename": "KeyError",
     "evalue": "\"None of ['Nbr'] are in the columns\"",
     "output_type": "error",
     "traceback": [
      "\u001b[31m---------------------------------------------------------------------------\u001b[39m",
      "\u001b[31mKeyError\u001b[39m                                  Traceback (most recent call last)",
      "\u001b[32m/tmp/ipykernel_185267/2083835651.py\u001b[39m in \u001b[36m?\u001b[39m\u001b[34m()\u001b[39m\n\u001b[32m----> \u001b[39m\u001b[32m1\u001b[39m result = result.reset_index(drop=\u001b[38;5;28;01mTrue\u001b[39;00m).set_index(\u001b[33m'Nbr'\u001b[39m).to_dict(orient=\u001b[33m'index'\u001b[39m)\n",
      "\u001b[32m~/moha13/lib/python3.13/site-packages/pandas/core/frame.py\u001b[39m in \u001b[36m?\u001b[39m\u001b[34m(self, keys, drop, append, inplace, verify_integrity)\u001b[39m\n\u001b[32m   6125\u001b[39m                     \u001b[38;5;28;01mif\u001b[39;00m \u001b[38;5;28;01mnot\u001b[39;00m found:\n\u001b[32m   6126\u001b[39m                         missing.append(col)\n\u001b[32m   6127\u001b[39m \n\u001b[32m   6128\u001b[39m         \u001b[38;5;28;01mif\u001b[39;00m missing:\n\u001b[32m-> \u001b[39m\u001b[32m6129\u001b[39m             \u001b[38;5;28;01mraise\u001b[39;00m KeyError(f\"None of {missing} are in the columns\")\n\u001b[32m   6130\u001b[39m \n\u001b[32m   6131\u001b[39m         \u001b[38;5;28;01mif\u001b[39;00m inplace:\n\u001b[32m   6132\u001b[39m             frame = self\n",
      "\u001b[31mKeyError\u001b[39m: \"None of ['Nbr'] are in the columns\""
     ]
    }
   ],
   "source": [
    "result = result.reset_index(drop=True).set_index('Nbr').to_dict(orient='index')"
   ]
  },
  {
   "cell_type": "code",
   "execution_count": 55,
   "id": "e0947a25-bafe-4861-be41-6790adfffd93",
   "metadata": {},
   "outputs": [
    {
     "data": {
      "text/plain": [
       "{'Nom': 'Dergham',\n",
       " 'Prenom': 'Alal',\n",
       " 'Genre': 'Garçon',\n",
       " 'Birthdate': '2007-09-09',\n",
       " 'Place': '',\n",
       " '2021-2022': '1APIC-5'}"
      ]
     },
     "execution_count": 55,
     "metadata": {},
     "output_type": "execute_result"
    }
   ],
   "source": [
    "result[\"D134778663\"]"
   ]
  },
  {
   "cell_type": "code",
   "execution_count": 56,
   "id": "376c7537-7ef5-48cf-b142-9b87512aeabb",
   "metadata": {},
   "outputs": [],
   "source": [
    "with Path(\"/home/mohamed/Documents/datas/Docker/Students.json\").open(\"w\") as fl:\n",
    "    json.dump(result, fl)"
   ]
  }
 ],
 "metadata": {
  "kernelspec": {
   "display_name": "Python 3 (ipykernel)",
   "language": "python",
   "name": "python3"
  },
  "language_info": {
   "codemirror_mode": {
    "name": "ipython",
    "version": 3
   },
   "file_extension": ".py",
   "mimetype": "text/x-python",
   "name": "python",
   "nbconvert_exporter": "python",
   "pygments_lexer": "ipython3",
   "version": "3.13.5"
  }
 },
 "nbformat": 4,
 "nbformat_minor": 5
}
